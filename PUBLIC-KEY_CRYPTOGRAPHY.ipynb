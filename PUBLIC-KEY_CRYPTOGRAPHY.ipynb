{
 "cells": [
  {
   "attachments": {},
   "cell_type": "markdown",
   "metadata": {},
   "source": [
    "# Cryptohack \n",
    "## [PUBLIC-KEY CRYPTOGRAPHY](https://cryptohack.org/courses/public-key/course_details/)\n",
    "\n",
    "Writeup by Jupyter notebook"
   ]
  },
  {
   "cell_type": "code",
   "execution_count": null,
   "metadata": {},
   "outputs": [],
   "source": [
    "print(pow(101,17,22663))"
   ]
  },
  {
   "cell_type": "code",
   "execution_count": null,
   "metadata": {},
   "outputs": [
    {
     "name": "stdout",
     "output_type": "stream",
     "text": [
      "84\n"
     ]
    }
   ],
   "source": [
    "import math\n",
    "\n",
    "p, q = 17, 23\n",
    "d = 12\n",
    "e = 65537\n",
    "\n",
    "print(pow(d, e, p*q))\n"
   ]
  },
  {
   "cell_type": "code",
   "execution_count": 9,
   "metadata": {},
   "outputs": [
    {
     "data": {
      "text/plain": [
       "32577"
      ]
     },
     "execution_count": 9,
     "metadata": {},
     "output_type": "execute_result"
    }
   ],
   "source": [
    "65537 - 32960"
   ]
  },
  {
   "cell_type": "code",
   "execution_count": null,
   "metadata": {},
   "outputs": [],
   "source": [
    "import random\n",
    "import fractions\n",
    "\n",
    "class Rsa():\n",
    "    plaintext = \"\"\n",
    "    ciphertext = []\n",
    "    _e = _d = _n = 0\n",
    "    _p = _q = 0\n",
    "    _l = 0\n",
    "\n",
    "    def __init__(self):\n",
    "        pass\n",
    "    def __del__(self):\n",
    "        pass\n",
    "\n",
    "    def set_plaintext(self,str):\n",
    "        self.plaintext = str\n",
    "\n",
    "    def _random(self):\n",
    "        digit = 100 #桁数\n",
    "        return random.randrange(10**(digit - 1),10**digit)\n",
    "\n",
    "    def get_public_key(self):\n",
    "        return (self._e, self._n)\n",
    "\n",
    "    def get_private_key(self):\n",
    "        return (self._d, self._n)\n",
    "\n",
    "    def get_key_data(self):\n",
    "        return (self._l, self._p, self._q)\n",
    "\n",
    "    def _lcm(self,p,q):\n",
    "        return (p * q) // fractions.gcd(p, q)\n",
    "\n",
    "\n",
    "    def _etension_euclid(self,x,y):\n",
    "        c0, c1 = x, y\n",
    "        a0, a1 = 1, 0\n",
    "        b0, b1 = 0, 1\n",
    "\n",
    "        while c1 != 0:\n",
    "             m = c0 % c1\n",
    "             q = c0 // c1\n",
    "\n",
    "             c0, c1 = c1, m\n",
    "             a0, a1 = a1, (a0 - q * a1)\n",
    "             b0, b1 = b1, (b0 - q * b1)\n",
    "\n",
    "        return c0, a0, b0\n",
    "\n",
    "    def _is_prime_number(self,q):\n",
    "        cnt = 50\n",
    "\n",
    "        q = abs(q)\n",
    "        if q == 2: return True\n",
    "        if q < 2 or q & 1 == 0: return False\n",
    "\n",
    "        d = (q - 1) >> 1\n",
    "        while d & 1 == 0:\n",
    "            d >>= 1\n",
    "\n",
    "        for i in range(cnt):\n",
    "            a = random.randint(1,q - 1)\n",
    "            t = d\n",
    "            y = pow(a, t, q)\n",
    "            while t != q - 1 and y != 1 and y != q - 1: \n",
    "                y = pow(y, 2, q)\n",
    "                t <<= 1\n",
    "            if y != q - 1 and t & 1 == 0:\n",
    "                return False\n",
    "        return True\n",
    "\n",
    "    def GenerateKey(self,p = 0,q = 0,e = 0,d = 0,n = 0,l = 0):\n",
    "        if p == 0:\n",
    "            while True:\n",
    "                p = self._random()\n",
    "                if self._is_prime_number(p):break\n",
    "        self._p = p\n",
    "\n",
    "        if q == 0:\n",
    "            while True:\n",
    "                q = self._random()\n",
    "                if self._is_prime_number(q) and p != q:break\n",
    "        self._q = q\n",
    "\n",
    "        if n == 0:\n",
    "            n = p * q\n",
    "        self._n = n\n",
    "\n",
    "        if l == 0:\n",
    "            l = self._lcm(p - 1, q  - 1)\n",
    "        self._l = l\n",
    "\n",
    "        if e == 0:\n",
    "            while True:\n",
    "                i = random.randint(2,l)\n",
    "                if fractions.gcd(i, l) == 1:\n",
    "                  e = i\n",
    "                  break\n",
    "        self._e = e\n",
    "\n",
    "        if d == 0:\n",
    "            _c, a, _b = self._etension_euclid(e, l)\n",
    "            d = a % l\n",
    "        self._d = d\n",
    "\n",
    "    def encryption(self):\n",
    "        en_str = \"\"\n",
    "\n",
    "        for i in map((lambda x: pow(ord(x), self._e,self._n)),list(self.plaintext)):\n",
    "            self.ciphertext.append(i)\n",
    "            en_str += str(i)\n",
    "\n",
    "        return en_str\n",
    "\n",
    "    def decryption(self):\n",
    "        cip = []\n",
    "        de_str = \"\"\n",
    "        for i in  list(self.ciphertext):\n",
    "            tmp = chr(pow(i, self._d,self._n))\n",
    "            cip.append(tmp)\n",
    "            de_str = +str(tmp)\n",
    "\n",
    "        return de_str\n",
    "\n",
    "if __name__ == '__main__':\n",
    "    rsa = Rsa()\n",
    "    input = input(\">>\")\n",
    "    rsa.set_plaintext(input)\n",
    "    rsa.GenerateKey(0,0,65537)\n",
    "\n",
    "    l, p, q = rsa.get_key_data()\n",
    "    e, n = rsa.get_public_key()\n",
    "    d, _n= rsa.get_private_key()\n",
    "\n",
    "    print(\"p = \" + str(p))\n",
    "    print(\"q = \" + str(q))\n",
    "    print(\"n = \" + str(n))\n",
    "    print(\"l = \" + str(l))\n",
    "    print(\"e = \" + str(e))\n",
    "    print(\"d = \" + str(d))\n",
    "\n",
    "\n",
    "    en = rsa.encryption()\n",
    "    de = rsa.decryption()\n",
    "    print()\n",
    "\n",
    "    print(\"C = \" + str(en))\n",
    "    print(\"P = \" + str(de))"
   ]
  },
  {
   "cell_type": "code",
   "execution_count": null,
   "metadata": {},
   "outputs": [],
   "source": []
  },
  {
   "cell_type": "code",
   "execution_count": null,
   "metadata": {},
   "outputs": [],
   "source": []
  },
  {
   "cell_type": "code",
   "execution_count": null,
   "metadata": {},
   "outputs": [],
   "source": []
  }
 ],
 "metadata": {
  "kernelspec": {
   "display_name": "Python 3",
   "language": "python",
   "name": "python3"
  },
  "language_info": {
   "codemirror_mode": {
    "name": "ipython",
    "version": 3
   },
   "file_extension": ".py",
   "mimetype": "text/x-python",
   "name": "python",
   "nbconvert_exporter": "python",
   "pygments_lexer": "ipython3",
   "version": "3.9.6"
  },
  "orig_nbformat": 4
 },
 "nbformat": 4,
 "nbformat_minor": 2
}
